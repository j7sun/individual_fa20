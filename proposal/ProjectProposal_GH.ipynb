{
 "cells": [
  {
   "cell_type": "markdown",
   "metadata": {},
   "source": [
    "# COGS 108 - Project Proposal"
   ]
  },
  {
   "cell_type": "markdown",
   "metadata": {},
   "source": [
    "# Names & GitHub ID\n",
    "\n",
    "- Name: Jialun Sun\n",
    "- GitHub Username: j7sun"
   ]
  },
  {
   "cell_type": "markdown",
   "metadata": {},
   "source": [
    "# Research Question"
   ]
  },
  {
   "cell_type": "markdown",
   "metadata": {},
   "source": [
    "Does analyzing sociodemographic trends in San Diego County provide insightful suggestions on better long-term park & recreation planning through building amneities and balanced funding distributions?"
   ]
  },
  {
   "cell_type": "markdown",
   "metadata": {},
   "source": [
    "## Background and Prior Work"
   ]
  },
  {
   "cell_type": "markdown",
   "metadata": {},
   "source": [
    "To explore this research question, we need to find out what the \"County residents are seeking in future park and recreation services by examining broader park trends and County demographics\".(1) This research is important because it aims to improve satisfaction toward parks & recreation among county residents. Also, it is an important research question that contributes to better funding distribution toward parks & recreation in San Diego. For example, it has been known that \"there is projected to be fewer residents ages 0-69 and more residents ages 70 and older by 2040\"(1). Therefore, the demand for more fitness programs, such as aerobic classes, would increase significantly. This suggests that parks & recreation areas should focus more on providing amenities and services for older generations.\n",
    "\n",
    "Besides age, other demographic factors should also be considered as part of the trend analysis in order to improve long-term park planning. According to research, \"People who live in communities of concern rely on the physical, social, and economic benefits of public parks and programming but often have less access to recreational opportunities. Communities of concern are neighborhoods that have historically experienced lower levels of public and private investment in development and supporting infrastructure\"(2). Therefore, future planning needs to prioritize fundings in communities of concern in order to ensure equal access to parks & recreation.\n",
    "\n",
    "References (include links):\n",
    "- 1)https://www.sandiegocounty.gov/content/dam/sdc/parks/CAPRA/2.0%20EXHIBITS/2.4A%20Master%20Plan.pdf\n",
    "-2)https://www.sandiego.gov/sites/default/files/legacy/planning/community/profiles/greatergoldenhill/pdf/finalparksurveyreport.pdf"
   ]
  },
  {
   "cell_type": "markdown",
   "metadata": {},
   "source": [
    "# Hypothesis\n"
   ]
  },
  {
   "cell_type": "markdown",
   "metadata": {},
   "source": [
    "I hypothesize that analyzing sociodemographic trends in San Diego County could offer insightful suggestions on long-term park & recreation planning. Specifically, I expect to demonstrate how performing trend analysis on demographic factors such as age, ethnicity, and gender could recommend modifying existing amenities & services being provided at Parks and Recreation. Furthermore, I expect to see a more balanced funding distribution on Parks and Recreation by researching access to these areas based on household income and community location. In summary, I believe that performing analysis of sociodemographic trends is the key step for park & recreation development because it implies relevant recreation trends from various sources that may influence San Diego County's recreation planning.\n"
   ]
  },
  {
   "cell_type": "markdown",
   "metadata": {},
   "source": [
    "# Data"
   ]
  },
  {
   "cell_type": "markdown",
   "metadata": {},
   "source": [
    "##### Dataset 1: \n",
    "\n",
    "Dataset name: Age\n",
    "\n",
    "Number of observations: 25,000\n",
    "\n",
    "Age range:under 10 ~ 80+\n",
    "\n",
    "This dataset should include two parts. The first part provides the information about age range among residents who went to parks & recreation centers and the second part forcasts the estimated age range in 2040.\n",
    "\n",
    "\n",
    "Dataset 2:\n",
    "\n",
    "Dataset name: Gender\n",
    "\n",
    "Number of observation: 25,000\n",
    "\n",
    "Categories: Male, Female\n",
    "\n",
    "This dataset should include two parts.The first part provides the information about gender among residents who went to parks & recreation centers. The second part forcasts the estimated gender distribution in 2040.\n",
    "\n",
    "\n",
    "Dataset 3:\n",
    "\n",
    "Dataset name: Ethnicity\n",
    "\n",
    "Number of observation: 25,000\n",
    "\n",
    "Categories: White, Asian, Hispanic, Black, Native American\n",
    "\n",
    "This dataset should include two parts. The first part provides the information about ethnic distribution among residents that go to parks & recreation centers and the second part forcasts the estimated ethnic distribution in 2040.\n",
    "\n",
    "\n",
    "Dataset 4:\n",
    "\n",
    "Dataset name: Amenities & Services\n",
    "\n",
    "Number of observation: 50\n",
    "\n",
    "This dataset provides the type of Amenities and services that are provided in Parks & Recreations\n",
    "\n",
    "\n",
    "Dataset 5:\n",
    "\n",
    "Dataset name: Average Household Income\n",
    "\n",
    "Number of observation: 25,000\n",
    "\n",
    "Range: Less than 20000, 20000-29999, 30000-39999, 40000-49999, 50000-59999,60000-69999,70000-79999, 80000-89999, 90000-99999,100000-199999, Over 200000.\n",
    "\n",
    "This dataset provides information about the household income among familes who live in communities that contains park/recreation. \n",
    "\n",
    "\n",
    "Dataset 6:\n",
    "\n",
    "Dataset name: Park and Recreation in San Diego\n",
    "\n",
    "Number of observations: 25,000\n",
    "\n",
    "This dataset collects the name,location of some of the parks and recreaction in San Diego.\n",
    "\n",
    "I plan to merge the first four dataset above into one large data frame, organized by Amenities & Services and Demographic background. This dataframe should analyze how these sociodemgraphic trend could contribute to park & recreation planning. Then last 2 datasets would be organized into a seperate dataframe, organized by location and household income. This daataframe should analyze how fudning should be managed to balance access to parks and recreation in San Diego County."
   ]
  },
  {
   "cell_type": "markdown",
   "metadata": {},
   "source": [
    "# Ethics & Privacy"
   ]
  },
  {
   "cell_type": "markdown",
   "metadata": {},
   "source": [
    "The dataset will be provided by the instructor so I expect to have permission to use the data in my final project.\n",
    "\n",
    "One big privacy concern regarding this project is household income, which is being collected in my data frame. However, the original data was collected from San Diego County's government, which has high credibility. In addition to that, the data has been made public.\n",
    "\n",
    "One potential bias that could exist in my dataset is the distribution of household income during the collection of household income. For example, a moderate gap still exists between the value 30,000 and 39,999. Lastly, another bias that could potentially exist in the project is the 50 Amenities & Services being selected from all the choices that are available at San Diego County's Parks and Recreation.\n",
    "\n",
    "Before constructing my data frame, I plan to remove any personal identifications that are associated with household income. Moreover, in order to eliminate the bias brought by the income range, I decided to add more observations and set an equal income range. Also, using the collection of average income is not reliable and we cannot ignore the existence of outliers. Therefore, in response, I would consider collecting the median of household income instead of average income. In order to mitigate this bias, I would select 500 Amenities & Services in total and pick 50 of them after randomization. "
   ]
  }
 ],
 "metadata": {
  "kernelspec": {
   "display_name": "Python 3",
   "language": "python",
   "name": "python3"
  },
  "language_info": {
   "codemirror_mode": {
    "name": "ipython",
    "version": 3
   },
   "file_extension": ".py",
   "mimetype": "text/x-python",
   "name": "python",
   "nbconvert_exporter": "python",
   "pygments_lexer": "ipython3",
   "version": "3.7.6"
  }
 },
 "nbformat": 4,
 "nbformat_minor": 2
}
